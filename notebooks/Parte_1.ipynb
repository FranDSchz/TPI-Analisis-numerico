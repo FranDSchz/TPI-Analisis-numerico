{
 "cells": [
  {
   "cell_type": "markdown",
   "metadata": {},
   "source": [
    "**Analisis Numérico**\n",
    "\n",
    "Investigación previa "
   ]
  },
  {
   "cell_type": "code",
   "execution_count": 2,
   "metadata": {},
   "outputs": [
    {
     "name": "stdout",
     "output_type": "stream",
     "text": [
      "Multiplicación de matrices A y B:\n",
      " [[19 22]\n",
      " [43 50]]\n",
      "Inversa de la matriz D:\n",
      " [[-2.   1. ]\n",
      " [ 1.5 -0.5]]\n",
      "Valores propios de la matriz E:\n",
      " [ 3. -1.]\n",
      "Vectores propios de la matriz E:\n",
      " [[ 0.70710678 -0.70710678]\n",
      " [ 0.70710678  0.70710678]]\n"
     ]
    }
   ],
   "source": [
    "#Punto 1\n",
    "import numpy as np\n",
    "\n",
    "# 1. Multiplicación de matrices\n",
    "# Crear dos matrices\n",
    "A = np.array([[1, 2], [3, 4]])\n",
    "B = np.array([[5, 6], [7, 8]])\n",
    "\n",
    "# Multiplicación de matrices\n",
    "C = np.dot(A, B)\n",
    "print(\"Multiplicación de matrices A y B:\\n\", C)\n",
    "\n",
    "# 2. Cálculo de la inversa de una matriz\n",
    "# Crear una matriz\n",
    "D = np.array([[1, 2], [3, 4]])\n",
    "\n",
    "# Calcular la inversa de la matriz\n",
    "D_inv = np.linalg.inv(D)\n",
    "print(\"Inversa de la matriz D:\\n\", D_inv)\n",
    "\n",
    "# 3. Cálculo de valores propios y vectores propios de una matriz\n",
    "# Crear una matriz\n",
    "E = np.array([[1, 2], [2, 1]])\n",
    "\n",
    "# Calcular valores propios y vectores propios\n",
    "valores_propios, vectores_propios = np.linalg.eig(E)\n",
    "print(\"Valores propios de la matriz E:\\n\", valores_propios)\n",
    "print(\"Vectores propios de la matriz E:\\n\", vectores_propios)"
   ]
  }
 ],
 "metadata": {
  "kernelspec": {
   "display_name": "Python 3",
   "language": "python",
   "name": "python3"
  },
  "language_info": {
   "codemirror_mode": {
    "name": "ipython",
    "version": 3
   },
   "file_extension": ".py",
   "mimetype": "text/x-python",
   "name": "python",
   "nbconvert_exporter": "python",
   "pygments_lexer": "ipython3",
   "version": "3.11.10"
  }
 },
 "nbformat": 4,
 "nbformat_minor": 2
}
