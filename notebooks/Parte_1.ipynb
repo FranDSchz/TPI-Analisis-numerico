{
 "cells": [
  {
   "cell_type": "markdown",
   "metadata": {},
   "source": [
    "**Analisis Numérico**\n",
    "\n",
    "Investigación previa "
   ]
  },
  {
   "cell_type": "code",
   "execution_count": 7,
   "metadata": {},
   "outputs": [
    {
     "name": "stdout",
     "output_type": "stream",
     "text": [
      "Multiplicación de matrices A y B:\n",
      " [[19 22]\n",
      " [43 50]]\n",
      "Inversa de la matriz D:\n",
      " [[-2.   1. ]\n",
      " [ 1.5 -0.5]]\n",
      "Valores propios de la matriz E:\n",
      " [ 3. -1.]\n",
      "Vectores propios de la matriz E:\n",
      " [[ 0.70710678 -0.70710678]\n",
      " [ 0.70710678  0.70710678]]\n"
     ]
    }
   ],
   "source": [
    "#Punto 1\n",
    "import numpy as np\n",
    "\n",
    "# 1. Multiplicación de matrices\n",
    "# Crear dos matrices\n",
    "A = np.array([[1, 2], [3, 4]])\n",
    "B = np.array([[5, 6], [7, 8]])\n",
    "\n",
    "# Multiplicación de matrices\n",
    "C = np.dot(A, B)\n",
    "print(\"Multiplicación de matrices A y B:\\n\", C)\n",
    "\n",
    "# 2. Cálculo de la inversa de una matriz\n",
    "# Crear una matriz\n",
    "D = np.array([[1, 2], [3, 4]])\n",
    "\n",
    "# Calcular la inversa de la matriz\n",
    "D_inv = np.linalg.inv(D)\n",
    "print(\"Inversa de la matriz D:\\n\", D_inv)\n",
    "\n",
    "# 3. Cálculo de valores propios y vectores propios de una matriz\n",
    "# Crear una matriz\n",
    "E = np.array([[1, 2], [2, 1]])\n",
    "\n",
    "# Calcular valores propios y vectores propios\n",
    "valores_propios, vectores_propios = np.linalg.eig(E)\n",
    "print(\"Valores propios de la matriz E:\\n\", valores_propios)\n",
    "print(\"Vectores propios de la matriz E:\\n\", vectores_propios)"
   ]
  },
  {
   "cell_type": "markdown",
   "metadata": {},
   "source": [
    "# **Parte 2: Aplicaciones Numéricas y Simbólicas**\n",
    "***\n",
    "\n",
    "### **1. Resolución de ecuaciones diferenciales (SymPy vs. SciPy)**\n",
    "\n",
    "> *Toma una ecuación diferencial de la guía de trabajos prácticos y resuélvela usando **SymPy** y **SciPy** respectivamente. Compara los enfoques simbólico y\n",
    "> numérico. ¿En qué casos preferirías usar uno u otro método?*\n",
    "\n",
    "Vamos a resolver la siguiente ecuacion diferencial usando SymPy para obtener la solucion simbolica y SciPy para calcular la solucion numerica.\n",
    "\n",
    "$y'' + 9y = e^t, y(0) = 0 ; y'(0) = 0$\n",
    "\n",
    "\n",
    "#### **Solución Simbólica con SymPy**\n",
    "En SymPy, resolveremos esta EDO de segundo orden usando `dsolve`, que permite encontrar soluciones exactas en términos de expresiones matemáticas.\n",
    "#### **Paso a Paso en SymPy**\n",
    "1. Definimos las variables simbólicas **𝑦** y **𝑡**\n",
    "2. Planteamos la ecuación diferencial.\n",
    "3. Aplicamos `dsolve` para resolver la ecuación.\n",
    "4. Usamos las condiciones iniciales para obtener una solución particular.\n",
    "\n",
    "Aquí está el código para hacerlo:"
   ]
  },
  {
   "cell_type": "code",
   "execution_count": 8,
   "metadata": {},
   "outputs": [
    {
     "data": {
      "text/latex": [
       "$\\displaystyle y{\\left(t \\right)} = \\frac{e^{t}}{10} - \\frac{\\sin{\\left(3 t \\right)}}{30} - \\frac{\\cos{\\left(3 t \\right)}}{10}$"
      ],
      "text/plain": [
       "Eq(y(t), exp(t)/10 - sin(3*t)/30 - cos(3*t)/10)"
      ]
     },
     "execution_count": 8,
     "metadata": {},
     "output_type": "execute_result"
    }
   ],
   "source": [
    "import sympy as sp\n",
    "\n",
    "# Definimos la variable y la función desconocida\n",
    "t = sp.symbols('t')\n",
    "y = sp.Function('y')(t)\n",
    "\n",
    "# Definimos la ecuación diferencial\n",
    "ode = sp.Eq(y.diff(t, 2) + 9*y, sp.exp(t))\n",
    "\n",
    "# Resolvemos la EDO simbólicamente\n",
    "solucion_simb = sp.dsolve(ode, y)\n",
    "\n",
    "# Aplicamos las condiciones iniciales y obtenemos la solución particular\n",
    "constantes = sp.solve([solucion_simb.rhs.subs(t, 0), solucion_simb.rhs.diff(t).subs(t, 0)], 'C1', 'C2')\n",
    "solucion_particular = solucion_simb.subs(constantes)\n",
    "\n",
    "solucion_particular"
   ]
  },
  {
   "cell_type": "markdown",
   "metadata": {},
   "source": [
    "Este código te dará una solución exacta en términos de funciones y exponentes. La solución exacta, de este modo, resulta útil para el análisis detallado de la solución, encontrar patrones o analizar el comportamiento a medida que $t \\to \\infty$\n",
    "\n",
    "#### **Solución Numérica con SciPy**\n",
    "Para una solución numérica, usamos `solve_ivp` de **SciPy**, un método de integración numérica. En este enfoque, convertimos la EDO de segundo orden en un sistema de EDOs de primer orden:\n",
    "\n",
    "Definimos:\n",
    "* $y_1 = y$\n",
    "* $y_2 = y'$\n",
    "\n",
    "La EDO se convierte en:\n",
    "\n",
    "* $y_1' = y_2$\n",
    "* $y_2' = e^t - 9y_1$\n",
    "\n",
    "Entonces podemos resolver este sistema de ecuaciones.\n",
    "\n",
    "##### **Paso a Paso en SciPy**\n",
    "1. Definimos el sistema de ecuaciones como una función.\n",
    "2. Usamos `solve_ivp` para resolver la EDO numéricamente, aplicando las condiciones iniciales.\n",
    "\n",
    "Aquí está el código para hacerlo:"
   ]
  },
  {
   "cell_type": "code",
   "execution_count": 9,
   "metadata": {},
   "outputs": [
    {
     "data": {
      "image/png": "[encoded data removed]",
      "text/plain": [
       "<Figure size 640x480 with 1 Axes>"
      ]
     },
     "metadata": {},
     "output_type": "display_data"
    }
   ],
   "source": [
    "import numpy as np\n",
    "from scipy.integrate import solve_ivp\n",
    "import matplotlib.pyplot as plt\n",
    "\n",
    "# Definimos la función para el sistema de ecuaciones\n",
    "def sistema(t, Y):\n",
    "    y1, y2 = Y\n",
    "    dy1_dt = y2\n",
    "    dy2_dt = np.exp(t) - 9*y1\n",
    "    return [dy1_dt, dy2_dt]\n",
    "\n",
    "# Condiciones iniciales\n",
    "Y0 = [0, 0]  # y(0) = 0, y'(0) = 0\n",
    "\n",
    "# Intervalo de tiempo para la solución numérica\n",
    "t_span = (0, 5)\n",
    "t_eval = np.linspace(0, 5, 100)\n",
    "\n",
    "# Resolvemos la EDO numéricamente\n",
    "solucion_num = solve_ivp(sistema, t_span, Y0, t_eval=t_eval)\n",
    "\n",
    "# Graficamos la solución numérica\n",
    "plt.plot(solucion_num.t, solucion_num.y[0], label=\"Solución numérica\")\n",
    "plt.xlabel(\"t\")\n",
    "plt.ylabel(\"y(t)\")\n",
    "plt.legend()\n",
    "plt.show()"
   ]
  },
  {
   "cell_type": "markdown",
   "metadata": {},
   "source": [
    "Este código mostrará una gráfica de la solución numérica en el intervalo de tiempo seleccionado.\n",
    "\n",
    "### **Comparación de los Enfoques**\n",
    "| Aspecto            | SymPy (Simbólico)                               | SciPy (Numérico)                                           |\n",
    "|--------------------|-------------------------------------------------|------------------------------------------------------------|\n",
    "| Resultado          | Expresión exacta                                | Valores numéricos en puntos discretos                      |\n",
    "| Precisión          | Solución exacta (si es posible)                 | Aproximación numérica                                      |\n",
    "| Aplicación         | Útil para análisis teórico                      | Útil para simulaciones o problemas con parámetros no conocidos |\n",
    "| Limitaciones       | Requiere que SymPy pueda resolver la EDO        | Puede ser lento en problemas de alta complejidad o intervalos largos |\n",
    "| Ejemplos de Uso    | Estudio de comportamiento asintótico, estabilidad | Simulaciones en ingeniería, física y biología              |\n",
    "\n",
    "### **¿Cuándo usar uno u otro?**\n",
    "* **SymPy (Simbólico)**: Es ideal cuando necesitas una solución general que puedas manipular algebraicamente o para estudios teóricos, ya que proporciona una expresión completa y exacta.\n",
    "* **SciPy (Numérico)**: Es preferible cuando te enfrentas a ecuaciones complejas donde no se puede encontrar una solución simbólica o cuando estás interesado en una simulación que requiere eficiencia y precisión en puntos específicos."
   ]
  },
  {
   "cell_type": "markdown",
   "metadata": {},
   "source": [
    "___\n",
    "### **2. Transformada de Laplace con SymPy**\n",
    "\n",
    "> *Investiga cómo realizar la Transformada de Laplace utilizando SymPy. Explica el uso de las funciones laplace_transform e inverse_laplace_transform. ¿En qué\n",
    "> aplicaciones prácticas crees que esta herramienta es útil?*\n",
    "\n",
    "La Transformada de Laplace es una herramienta matemática poderosa que convierte una función en el dominio del tiempo en una función en el dominio de la frecuencia, lo que facilita el análisis de sistemas dinámicos, como circuitos eléctricos y sistemas mecánicos. En **SymPy**, podemos realizar tanto la Transformada de Laplace como su inversa (para volver al dominio del tiempo) usando las funciones `laplace_transform` y `inverse_laplace_transform`.\n",
    "\n",
    "#### **Transformada de Laplace en SymPy**\n",
    "\n",
    "La función laplace_transform en SymPy tiene la siguiente sintaxis: `sympy.laplace_transform(función, variable, variable_transformada)`\n",
    "\n",
    "* `función`: Es la función en el dominio del tiempo que queremos transformar\n",
    "* `variable`: Es la variable de la función en el dominio del tiempo, generalmente **𝑡**\n",
    "* `variable_transformada`: Es la variable del dominio de la frecuencia, comúnmente **𝑠**\n",
    "\n",
    "Esta función devuelve tres elementos:\n",
    "\n",
    "1. La función transformada.\n",
    "2. La región de convergencia (donde la transformada es válida).\n",
    "3. Una bandera que indica si la transformada fue calculada.\n",
    "\n",
    "**Ejemplo de Transformada de Laplace**\n",
    "\n",
    "Supongamos que queremos encontrar la Transformada de Laplace de la función $f(t) = e^{3t} \\sin(2t)$"
   ]
  },
  {
   "cell_type": "code",
   "execution_count": null,
   "metadata": {},
   "outputs": [],
   "source": [
    "import sympy as sp\n",
    "\n",
    "# Definimos la variable del tiempo y de la frecuencia\n",
    "t, s = sp.symbols('t s')\n",
    "f_t = sp.exp(3 * t) * sp.sin(2 * t)\n",
    "\n",
    "# Calculamos la Transformada de Laplace\n",
    "F_s = sp.laplace_transform(f_t, t, s)\n",
    "F_s"
   ]
  },
  {
   "cell_type": "markdown",
   "metadata": {},
   "source": [
    "Este código nos devuelve la expresión de la transformada en términos de **𝑠**.\n",
    "\n",
    "#### **Transformada de Laplace Inversa en SymPy**\n",
    "\n",
    "La Transformada de Laplace Inversa nos permite regresar una función del dominio de la frecuencia al dominio del tiempo. La función `inverse_laplace_transform` tiene esta sintaxis: `sympy.inverse_laplace_transform(función_transformada, variable_transformada, variable)`\n",
    "\n",
    "* `función_transformada`: Es la función en el dominio de la frecuencia que queremos invertir.\n",
    "* `variable_transformada`: Es la variable del dominio de la frecuencia, generalmente **𝑠**.\n",
    "* `variable`: Es la variable en el dominio del tiempo, comúnmente **𝑡**\n",
    "\n",
    "**Ejemplo de Transformada de Laplace Inversa**\n",
    "\n",
    "Supongamos que queremos encontrar la Transformada de Laplace Inversa de la función\n",
    "\n",
    "$F(s) = \\frac{s + 3}{s^2 + 4}$"
   ]
  },
  {
   "cell_type": "code",
   "execution_count": null,
   "metadata": {},
   "outputs": [],
   "source": [
    "# Definimos la función en el dominio de la frecuencia\n",
    "F_s = (s + 3) / (s**2 + 4)\n",
    "\n",
    "# Calculamos la Transformada de Laplace Inversa\n",
    "f_t = sp.inverse_laplace_transform(F_s, s, t)\n",
    "f_t"
   ]
  },
  {
   "cell_type": "markdown",
   "metadata": {},
   "source": [
    "Este código devolverá una expresión en términos de **𝑡**, correspondiente a la función en el dominio del tiempo.\n",
    "\n",
    "#### **Aplicaciones Prácticas de la Transformada de Laplace**\n",
    "\n",
    "La Transformada de Laplace se usa en una amplia gama de aplicaciones, especialmente en el análisis de sistemas lineales y de control. Algunas aplicaciones específicas incluyen:\n",
    "\n",
    "1. **Análisis de Sistemas de Control**: La Transformada de Laplace facilita el análisis de sistemas dinámicos, como sistemas eléctricos, mecánicos y de control, permitiendo resolver ecuaciones diferenciales y estudiar la respuesta de sistemas a diferentes entradas.\n",
    "\n",
    "2. **Circuitos Eléctricos**: En la teoría de circuitos, la Transformada de Laplace ayuda a analizar la respuesta de circuitos RLC (resistor, inductor, capacitor) al pasar al dominio de la frecuencia, simplificando la resolución de sistemas complejos.\n",
    "\n",
    "3. **Ingeniería Mecánica y Vibraciones**: En mecánica, es útil para analizar sistemas vibratorios, como masas y resortes, ya que permite estudiar las respuestas a fuerzas externas, amortiguamiento y resonancia.\n",
    "\n",
    "4. **Resolución de Ecuaciones Diferenciales**: En matemáticas aplicadas y física, la Transformada de Laplace permite resolver ecuaciones diferenciales con condiciones iniciales complejas, como las que surgen en el modelado de sistemas.\n",
    "\n",
    "#### **Resumen**\n",
    "\n",
    "La Transformada de Laplace y su inversa en SymPy permiten resolver problemas simbólicamente, proporcionando soluciones exactas en el dominio de la frecuencia. Esto es particularmente útil para analizar sistemas donde las ecuaciones diferenciales son complejas y el tiempo es una variable clave, lo que simplifica el estudio de la estabilidad y la respuesta de los sistemas en el tiempo y facilita el diseño y análisis de sistemas de control.\n",
    "___"
   ]
  },
  {
   "cell_type": "markdown",
   "metadata": {},
   "source": [
    "### **3. Matrices simbólicas en SymPy** \n",
    "\n",
    "> *Explora la librería SymPy y describe cómo se construyen y manipulan matrices simbólicas. Proporciona ejemplos en los que las entradas de una matriz no sean\n",
    "> números, sino variables simbólicas.*\n",
    "\n",
    "La librería **SymPy** facilita la creación y manipulación de matrices simbólicas, permitiendo el trabajo con entradas que no necesariamente son valores numéricos, sino expresiones o variables simbólicas. Esto es muy útil en álgebra lineal simbólica, donde las matrices pueden representar sistemas de ecuaciones, transformaciones lineales, y otros cálculos que requieren soluciones generales en términos de variables.\n",
    "\n",
    "#### **Creación de Matrices Simbólicas en SymPy**\n",
    "\n",
    "En **SymPy**, las matrices simbólicas se crean utilizando la clase Matrix. Para crear una matriz con variables simbólicas, primero necesitamos definir las variables, y luego podemos construir la matriz con ellas.\n",
    "\n",
    "**Ejemplo básico de creación de matriz simbólica**\n",
    "\n",
    "Aquí crearemos una matriz ___A___ de 2x2 con variables simbólicas ___a, b, c y d___:"
   ]
  },
  {
   "cell_type": "code",
   "execution_count": 10,
   "metadata": {},
   "outputs": [
    {
     "data": {
      "text/latex": [
       "$\\displaystyle \\left[\\begin{matrix}a & b\\\\c & d\\end{matrix}\\right]$"
      ],
      "text/plain": [
       "Matrix([\n",
       "[a, b],\n",
       "[c, d]])"
      ]
     },
     "execution_count": 10,
     "metadata": {},
     "output_type": "execute_result"
    }
   ],
   "source": [
    "import sympy as sp\n",
    "\n",
    "# Definimos las variables simbólicas\n",
    "a, b, c, d = sp.symbols('a b c d')\n",
    "\n",
    "# Creamos la matriz simbólica\n",
    "A = sp.Matrix([[a, b], [c, d]])\n",
    "A"
   ]
  },
  {
   "cell_type": "markdown",
   "metadata": {},
   "source": [
    "#### **Manipulación de Matrices Simbólicas**\n",
    "\n",
    "Una vez creada la matriz simbólica, SymPy permite realizar diversas operaciones algebraicas, tales como calcular la **determinante**, **inversa**, **transpuesta**, y resolver sistemas lineales usando matrices simbólicas.\n",
    "\n",
    "**Ejemplo de cálculo de la determinante**\n",
    "\n",
    "Para calcular el determinante de la matriz ___A___:"
   ]
  },
  {
   "cell_type": "code",
   "execution_count": 11,
   "metadata": {},
   "outputs": [
    {
     "data": {
      "text/latex": [
       "$\\displaystyle a d - b c$"
      ],
      "text/plain": [
       "a*d - b*c"
      ]
     },
     "execution_count": 11,
     "metadata": {},
     "output_type": "execute_result"
    }
   ],
   "source": [
    "det_A = A.det()\n",
    "det_A"
   ]
  },
  {
   "cell_type": "markdown",
   "metadata": {},
   "source": [
    "El resultado será una expresión en términos de ___a, b, c y d,___ si existe.\n",
    "\n",
    "**jemplo de cálculo de la inversa**\n",
    "\n",
    "Podemos calcular la inversa de la matriz ___A___, siempre y cuando su determinante no sea cero."
   ]
  },
  {
   "cell_type": "code",
   "execution_count": 12,
   "metadata": {},
   "outputs": [
    {
     "data": {
      "text/latex": [
       "$\\displaystyle \\left[\\begin{matrix}\\frac{d}{a d - b c} & - \\frac{b}{a d - b c}\\\\- \\frac{c}{a d - b c} & \\frac{a}{a d - b c}\\end{matrix}\\right]$"
      ],
      "text/plain": [
       "Matrix([\n",
       "[ d/(a*d - b*c), -b/(a*d - b*c)],\n",
       "[-c/(a*d - b*c),  a/(a*d - b*c)]])"
      ]
     },
     "execution_count": 12,
     "metadata": {},
     "output_type": "execute_result"
    }
   ],
   "source": [
    "inv_A = A.inv()\n",
    "inv_A"
   ]
  },
  {
   "cell_type": "markdown",
   "metadata": {},
   "source": [
    "Esto devuelve la inversa de ___A___ en términos de ___a, b, c y d,___ si existe.\n",
    "\n",
    "**Ejemplo de multiplicación de matrices**\n",
    "\n",
    "Supongamos que tenemos otra matriz simbólica ___B___:"
   ]
  },
  {
   "cell_type": "code",
   "execution_count": null,
   "metadata": {},
   "outputs": [],
   "source": [
    "# Definimos otra matriz simbólica\n",
    "e, f, g, h = sp.symbols('e f g h')\n",
    "B = sp.Matrix([[e, f], [g, h]])\n",
    "\n",
    "# Multiplicamos A por B\n",
    "C = A * B\n",
    "C"
   ]
  },
  {
   "cell_type": "markdown",
   "metadata": {},
   "source": [
    "El resultado será la matriz ___C___ obtenida al multiplicar \n",
    "___A___ y ___B___.\n",
    "\n",
    "**Ejemplo Completo: Sistema de Ecuaciones Lineales Simbólico**\n",
    "\n",
    "Supongamos que tenemos un sistema de ecuaciones lineales simbólico:\n",
    "$$\n",
    "\\begin{cases}\n",
    "ax + by = e \\\\\n",
    "cx + dy = f\n",
    "\\end{cases}\n",
    "$$\n",
    "Podemos expresar este sistema en forma de matriz y resolverlo simbólicamente.\n",
    "\n"
   ]
  },
  {
   "cell_type": "code",
   "execution_count": null,
   "metadata": {},
   "outputs": [],
   "source": [
    "# Creamos el vector de incógnitas y el vector de términos independientes\n",
    "x, y = sp.symbols('x y')\n",
    "variables = sp.Matrix([x, y])\n",
    "constants = sp.Matrix([e, f])\n",
    "\n",
    "# Escribimos el sistema en forma matricial: A * variables = constants\n",
    "solution = A.LUsolve(constants)  # Resuelve el sistema\n",
    "solution"
   ]
  },
  {
   "cell_type": "markdown",
   "metadata": {},
   "source": [
    "Este código resuelve el sistema en términos de las variables ___a, b, c, d, e___ y ___f___, devolviendo los valores de ___x___ y ___y___ en función de estas.\n",
    "\n",
    "#### **Resumen**\n",
    "\n",
    "**SymPy** proporciona herramientas potentes para construir y manipular matrices simbólicas, permitiendo la resolución de sistemas de ecuaciones simbólicos y la ejecución de operaciones algebraicas complejas. Este enfoque es particularmente útil en matemáticas simbólicas, física teórica, y cualquier campo que requiera soluciones algebraicas en términos de variables.\n",
    "___"
   ]
  },
  {
   "cell_type": "markdown",
   "metadata": {},
   "source": []
  }
 ],
 "metadata": {
  "kernelspec": {
   "display_name": "env",
   "language": "python",
   "name": "python3"
  },
  "language_info": {
   "codemirror_mode": {
    "name": "ipython",
    "version": 3
   },
   "file_extension": ".py",
   "mimetype": "text/x-python",
   "name": "python",
   "nbconvert_exporter": "python",
   "pygments_lexer": "ipython3",
   "version": "3.12.6"
  }
 },
 "nbformat": 4,
 "nbformat_minor": 2
}
